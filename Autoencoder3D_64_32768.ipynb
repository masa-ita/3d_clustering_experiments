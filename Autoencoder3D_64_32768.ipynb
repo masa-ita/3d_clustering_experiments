{
  "nbformat": 4,
  "nbformat_minor": 5,
  "metadata": {
    "accelerator": "GPU",
    "colab": {
      "name": "Autoencoder3D_64_32768.ipynb",
      "provenance": [],
      "collapsed_sections": [],
      "machine_shape": "hm"
    },
    "kernelspec": {
      "display_name": "Python 3 (ipykernel)",
      "language": "python",
      "name": "python3"
    },
    "language_info": {
      "codemirror_mode": {
        "name": "ipython",
        "version": 3
      },
      "file_extension": ".py",
      "mimetype": "text/x-python",
      "name": "python",
      "nbconvert_exporter": "python",
      "pygments_lexer": "ipython3",
      "version": "3.8.10"
    }
  },
  "cells": [
    {
      "cell_type": "markdown",
      "metadata": {
        "id": "eK9ZWhWzKlWW"
      },
      "source": [
        "# Autoencoder for 3D clustering"
      ],
      "id": "eK9ZWhWzKlWW"
    },
    {
      "cell_type": "markdown",
      "metadata": {
        "id": "i36-BkfQKpOI"
      },
      "source": [
        "## for Google Colab"
      ],
      "id": "i36-BkfQKpOI"
    },
    {
      "cell_type": "code",
      "metadata": {
        "id": "3bf32098"
      },
      "source": [
        "from google.colab import drive\n",
        "drive.mount('/content/drive')"
      ],
      "id": "3bf32098",
      "execution_count": null,
      "outputs": []
    },
    {
      "cell_type": "code",
      "metadata": {
        "id": "f9568d57"
      },
      "source": [
        "!unzip -q /content/drive/MyDrive/data/mn10_64.zip"
      ],
      "id": "f9568d57",
      "execution_count": null,
      "outputs": []
    },
    {
      "cell_type": "code",
      "metadata": {
        "id": "37152e31"
      },
      "source": [
        "!pip install tensorflow-determinism kaleido"
      ],
      "id": "37152e31",
      "execution_count": null,
      "outputs": []
    },
    {
      "cell_type": "code",
      "metadata": {
        "id": "1698df8e"
      },
      "source": [
        "!pip install seaborn"
      ],
      "id": "1698df8e",
      "execution_count": null,
      "outputs": []
    },
    {
      "cell_type": "markdown",
      "metadata": {
        "id": "xsR_CEx4KrTj"
      },
      "source": [
        "## Import modules and set parameters"
      ],
      "id": "xsR_CEx4KrTj"
    },
    {
      "cell_type": "code",
      "metadata": {
        "id": "d202dda6"
      },
      "source": [
        "import os\n",
        "import datetime\n",
        "import random\n",
        "import re\n",
        "import numpy as np\n",
        "import tensorflow as tf\n",
        "from tensorflow import keras\n",
        "from tensorflow.keras import layers"
      ],
      "id": "d202dda6",
      "execution_count": null,
      "outputs": []
    },
    {
      "cell_type": "code",
      "metadata": {
        "id": "aa1f9ecc"
      },
      "source": [
        "def set_seed(seed=200):\n",
        "    tf.random.set_seed(seed)\n",
        "\n",
        "    # optional\n",
        "    # for numpy.random\n",
        "    np.random.seed(seed)\n",
        "    # for built-in random\n",
        "    random.seed(seed)\n",
        "    # for hash seed\n",
        "    os.environ[\"PYTHONHASHSEED\"] = str(seed)\n",
        "    os.environ['TF_DETERMINISTIC_OPS'] = '1'\n",
        "    \n",
        "set_seed(123)"
      ],
      "id": "aa1f9ecc",
      "execution_count": null,
      "outputs": []
    },
    {
      "cell_type": "code",
      "metadata": {
        "id": "86725245"
      },
      "source": [
        "EXPERIMENT_DIR = 'autoencoder_64_32768'\n",
        "\n",
        "BUFFER_SIZE = 4000\n",
        "BATCH_SIZE = 32\n",
        "START_EPOCH = 0\n",
        "EPOCHS = 300\n",
        "\n",
        "DATA_DIR = '/content/mn10/64'\n",
        "IMAGE_SIZE = 64\n",
        "NUM_CHANNELS = 1"
      ],
      "id": "86725245",
      "execution_count": null,
      "outputs": []
    },
    {
      "cell_type": "code",
      "metadata": {
        "id": "4d01f392"
      },
      "source": [
        "os.makedirs(EXPERIMENT_DIR, exist_ok=True)"
      ],
      "id": "4d01f392",
      "execution_count": null,
      "outputs": []
    },
    {
      "cell_type": "markdown",
      "metadata": {
        "id": "d533a02f"
      },
      "source": [
        "## Define models"
      ],
      "id": "d533a02f"
    },
    {
      "cell_type": "code",
      "metadata": {
        "id": "85aa6887"
      },
      "source": [
        "encoder = keras.Sequential([\n",
        "        layers.Conv3D(filters=64, kernel_size=3,\n",
        "                      padding='same', activation='relu',\n",
        "                      input_shape=(IMAGE_SIZE, IMAGE_SIZE, IMAGE_SIZE, NUM_CHANNELS)),\n",
        "        layers.MaxPool3D(pool_size=2),\n",
        "    \n",
        "        layers.Conv3D(filters=128, kernel_size=3, \n",
        "                      padding='same', activation='relu'),\n",
        "        layers.MaxPool3D(pool_size=2),\n",
        "\n",
        "        layers.Conv3D(filters=256, kernel_size=3,\n",
        "                      padding='same', activation='relu'),\n",
        "        layers.MaxPool3D(pool_size=2),\n",
        "\n",
        "        layers.Conv3D(filters=512, kernel_size=3, \n",
        "                      padding='same', activation='relu'),\n",
        "        layers.MaxPool3D(pool_size=2),\n",
        "    \n",
        "        layers.Flatten()    \n",
        "])"
      ],
      "id": "85aa6887",
      "execution_count": null,
      "outputs": []
    },
    {
      "cell_type": "code",
      "metadata": {
        "id": "36bbd87c"
      },
      "source": [
        "decoder = keras.Sequential([\n",
        "        layers.Reshape((4, 4, 4, 512), input_shape=(32768,)),\n",
        "        layers.UpSampling3D(2),\n",
        "    \n",
        "        layers.Conv3D(filters=512, kernel_size=3, \n",
        "                      padding='same', activation='relu'),\n",
        "        layers.UpSampling3D(2),\n",
        "\n",
        "        layers.Conv3D(filters=256, kernel_size=3,\n",
        "                      padding='same', activation='relu'),\n",
        "        layers.UpSampling3D(2),\n",
        "    \n",
        "        layers.Conv3D(filters=128, kernel_size=3, \n",
        "                      padding='same', activation='relu'),\n",
        "        layers.UpSampling3D(2),\n",
        "    \n",
        "        layers.Conv3D(filters=NUM_CHANNELS, kernel_size=3, \n",
        "                      padding='same', activation='sigmoid')\n",
        "])"
      ],
      "id": "36bbd87c",
      "execution_count": null,
      "outputs": []
    },
    {
      "cell_type": "code",
      "metadata": {
        "id": "0f91c27e"
      },
      "source": [
        "encoder.summary()"
      ],
      "id": "0f91c27e",
      "execution_count": null,
      "outputs": []
    },
    {
      "cell_type": "code",
      "metadata": {
        "id": "240ac736"
      },
      "source": [
        "decoder.summary()"
      ],
      "id": "240ac736",
      "execution_count": null,
      "outputs": []
    },
    {
      "cell_type": "code",
      "metadata": {
        "id": "bb0d0ec7"
      },
      "source": [
        "tf.keras.utils.plot_model(encoder,\n",
        "                         to_file=os.path.join(EXPERIMENT_DIR, 'encoder.png'),\n",
        "                         show_shapes=True)"
      ],
      "id": "bb0d0ec7",
      "execution_count": null,
      "outputs": []
    },
    {
      "cell_type": "code",
      "metadata": {
        "id": "4d34ebe6"
      },
      "source": [
        "tf.keras.utils.plot_model(decoder,\n",
        "                         to_file=os.path.join(EXPERIMENT_DIR, 'decoder.png'),\n",
        "                         show_shapes=True)"
      ],
      "id": "4d34ebe6",
      "execution_count": null,
      "outputs": []
    },
    {
      "cell_type": "code",
      "metadata": {
        "id": "d7ad9b22"
      },
      "source": [
        "class Autoencoder(tf.keras.Model):\n",
        "    def __init__(self, encoder, deocoder):\n",
        "        super(Autoencoder, self).__init__()\n",
        "        self.encoder = encoder\n",
        "        self.decoder = decoder\n",
        "\n",
        "    def call(self, inputs):\n",
        "        x = self.encoder(inputs)\n",
        "        x = self.decoder(x)\n",
        "        return x\n",
        "    \n",
        "    def build_graph(self, dim):\n",
        "        x = tf.keras.Input((dim))\n",
        "        return tf.keras.Model(inputs=[x], outputs=self.call(x))"
      ],
      "id": "d7ad9b22",
      "execution_count": null,
      "outputs": []
    },
    {
      "cell_type": "code",
      "metadata": {
        "id": "e27037ef"
      },
      "source": [
        "model = Autoencoder(encoder, decoder)"
      ],
      "id": "e27037ef",
      "execution_count": null,
      "outputs": []
    },
    {
      "cell_type": "markdown",
      "metadata": {
        "id": "e3f3a1af"
      },
      "source": [
        "## Prepare data"
      ],
      "id": "e3f3a1af"
    },
    {
      "cell_type": "code",
      "metadata": {
        "id": "10385c8e"
      },
      "source": [
        "categories = ['bathtub', 'bed', 'chair', 'desk', 'dresser',\n",
        "              'monitor', 'night_stand', 'sofa', 'table', 'toilet']"
      ],
      "id": "10385c8e",
      "execution_count": null,
      "outputs": []
    },
    {
      "cell_type": "code",
      "metadata": {
        "id": "ed678fc9"
      },
      "source": [
        "train_pattern = DATA_DIR +'/train/*.npy'\n",
        "\n",
        "train_list_ds = tf.data.Dataset.list_files(train_pattern, shuffle=False)"
      ],
      "id": "ed678fc9",
      "execution_count": null,
      "outputs": []
    },
    {
      "cell_type": "code",
      "metadata": {
        "id": "d38e1e01"
      },
      "source": [
        "cat_re = re.compile(r'.+/(.+?)_[0-9]+\\.npy')\n",
        "train_labels = [cat_re.match(item.numpy().decode())[1] for item in train_list_ds]\n",
        "train_ids = [categories.index(cat) for cat in train_labels]\n",
        "train_label_ds = tf.data.Dataset.from_tensor_slices(tf.cast(train_ids, tf.int64))"
      ],
      "id": "d38e1e01",
      "execution_count": null,
      "outputs": []
    },
    {
      "cell_type": "code",
      "metadata": {
        "id": "84d15346"
      },
      "source": [
        "def read_npy_file(path):\n",
        "    data = np.load(path.numpy())\n",
        "    data = np.expand_dims(data, axis=-1)\n",
        "    return tf.convert_to_tensor(data, dtype=tf.float32)"
      ],
      "id": "84d15346",
      "execution_count": null,
      "outputs": []
    },
    {
      "cell_type": "code",
      "metadata": {
        "id": "8c76336c"
      },
      "source": [
        "train_3d_ds = train_list_ds.map(\n",
        "      lambda item: tf.py_function(read_npy_file, [item], tf.float32))\n",
        "train_dataset = tf.data.Dataset.zip((train_3d_ds, train_3d_ds)).cache().shuffle(BUFFER_SIZE).batch(BATCH_SIZE)"
      ],
      "id": "8c76336c",
      "execution_count": null,
      "outputs": []
    },
    {
      "cell_type": "markdown",
      "metadata": {
        "id": "84b3801b"
      },
      "source": [
        "## Train autoencoder"
      ],
      "id": "84b3801b"
    },
    {
      "cell_type": "code",
      "metadata": {
        "id": "9wLWI4hjIXDz"
      },
      "source": [
        "%load_ext tensorboard\n",
        "%tensorboard --logdir $EXPERIMENT_DIR/logs"
      ],
      "id": "9wLWI4hjIXDz",
      "execution_count": null,
      "outputs": []
    },
    {
      "cell_type": "code",
      "metadata": {
        "id": "c3d7d081"
      },
      "source": [
        "loss_fn = tf.keras.losses.BinaryCrossentropy()\n",
        "optimizer = tf.keras.optimizers.Adam(learning_rate=1.0e-4)\n",
        "\n",
        "tb_callback = keras.callbacks.TensorBoard(log_dir=os.path.join(EXPERIMENT_DIR, 'logs'))\n",
        "\n",
        "model.compile(optimizer=optimizer, loss=loss_fn)\n",
        "model.fit(train_dataset,\n",
        "          initial_epoch=START_EPOCH,\n",
        "          epochs=EPOCHS,\n",
        "          callbacks=[tb_callback])\n"
      ],
      "id": "c3d7d081",
      "execution_count": null,
      "outputs": []
    },
    {
      "cell_type": "code",
      "metadata": {
        "id": "b1e80eb2"
      },
      "source": [
        "encoder.save(os.path.join(EXPERIMENT_DIR, 'saved_models', 'encoder'))\n",
        "decoder.save(os.path.join(EXPERIMENT_DIR, 'saved_models', 'decoder'))"
      ],
      "id": "b1e80eb2",
      "execution_count": null,
      "outputs": []
    },
    {
      "cell_type": "markdown",
      "metadata": {
        "id": "56d00226"
      },
      "source": [
        "## Inspect autoencoder outputs"
      ],
      "id": "56d00226"
    },
    {
      "cell_type": "code",
      "metadata": {
        "id": "e9af1c41"
      },
      "source": [
        "sample_3d_data = next(iter(train_3d_ds.batch(BATCH_SIZE)))"
      ],
      "id": "e9af1c41",
      "execution_count": null,
      "outputs": []
    },
    {
      "cell_type": "code",
      "metadata": {
        "id": "4426c8e4"
      },
      "source": [
        "decoded_voxel_data = model(sample_3d_data, training=False)"
      ],
      "id": "4426c8e4",
      "execution_count": null,
      "outputs": []
    },
    {
      "cell_type": "code",
      "metadata": {
        "id": "676bd95e"
      },
      "source": [
        "for i in range(min(len(sample_3d_data), 3)):\n",
        "    fig = plt.figure(figsize=plt.figaspect(0.5))\n",
        "    ax = fig.add_subplot(1, 2, 1, projection='3d')\n",
        "    ax.voxels(sample_3d_data[i][:,:,:,0])\n",
        "    ax = fig.add_subplot(1, 2, 2, projection='3d')\n",
        "    ax.voxels(decoded_voxel_data[i][:,:,:,0])\n",
        "    plt.show()"
      ],
      "id": "676bd95e",
      "execution_count": null,
      "outputs": []
    },
    {
      "cell_type": "markdown",
      "metadata": {
        "id": "6d999874"
      },
      "source": [
        "## Copy the experiment directory to Google Drive"
      ],
      "id": "6d999874"
    },
    {
      "cell_type": "code",
      "metadata": {
        "id": "31e_m1YFK-rY"
      },
      "source": [
        "!cp -r $EXPERIMENT_DIR /content/drive/MyDrive/"
      ],
      "id": "31e_m1YFK-rY",
      "execution_count": null,
      "outputs": []
    }
  ]
}