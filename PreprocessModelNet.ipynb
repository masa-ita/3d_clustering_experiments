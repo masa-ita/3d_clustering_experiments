{
 "cells": [
  {
   "cell_type": "markdown",
   "metadata": {},
   "source": [
    "# Preprocess ModelNet10 data to numpy files"
   ]
  },
  {
   "cell_type": "raw",
   "metadata": {
    "id": "kdfae2YhjMR-"
   },
   "source": [
    "!wget http://3dvision.princeton.edu/projects/2014/3DShapeNets/ModelNet10.zip\n",
    "!unzip ModelNet10.zip"
   ]
  },
  {
   "cell_type": "code",
   "execution_count": 4,
   "metadata": {
    "id": "walsXSzrjlck"
   },
   "outputs": [
    {
     "name": "stdout",
     "output_type": "stream",
     "text": [
      "Defaulting to user installation because normal site-packages is not writeable\n",
      "Requirement already satisfied: trimesh in /home/tensorflow/.local/lib/python3.6/site-packages (3.9.29)\n",
      "Collecting pandas\n",
      "  Downloading pandas-1.1.5-cp36-cp36m-manylinux1_x86_64.whl (9.5 MB)\n",
      "\u001b[K     |████████████████████████████████| 9.5 MB 3.2 MB/s eta 0:00:01\n",
      "\u001b[?25hRequirement already satisfied: numpy in /usr/local/lib/python3.6/dist-packages (from trimesh) (1.19.5)\n",
      "Requirement already satisfied: setuptools in /usr/local/lib/python3.6/dist-packages (from trimesh) (57.4.0)\n",
      "Requirement already satisfied: pytz>=2017.2 in /home/tensorflow/.local/lib/python3.6/site-packages (from pandas) (2021.1)\n",
      "Requirement already satisfied: python-dateutil>=2.7.3 in /home/tensorflow/.local/lib/python3.6/site-packages (from pandas) (2.8.2)\n",
      "Requirement already satisfied: six>=1.5 in /usr/local/lib/python3.6/dist-packages (from python-dateutil>=2.7.3->pandas) (1.15.0)\n",
      "Installing collected packages: pandas\n",
      "Successfully installed pandas-1.1.5\n",
      "\u001b[33mWARNING: You are using pip version 20.2.4; however, version 21.2.4 is available.\n",
      "You should consider upgrading via the '/usr/bin/python3 -m pip install --upgrade pip' command.\u001b[0m\n"
     ]
    }
   ],
   "source": [
    "!pip install trimesh pandas"
   ]
  },
  {
   "cell_type": "code",
   "execution_count": 1,
   "metadata": {
    "id": "2fWuWuqM_gTB"
   },
   "outputs": [],
   "source": [
    "import os\n",
    "import sys\n",
    "from glob import glob\n",
    "import numpy as np\n",
    "import pandas as pd\n",
    "import trimesh\n",
    "from tqdm import tqdm"
   ]
  },
  {
   "cell_type": "code",
   "execution_count": 2,
   "metadata": {},
   "outputs": [],
   "source": [
    "SOURCE_DIR = 'ModelNet10'\n",
    "OUTPUT_DIR = 'mn10'\n",
    "CUBE_SIZE = 32"
   ]
  },
  {
   "cell_type": "code",
   "execution_count": 3,
   "metadata": {
    "id": "BPdRsanz3iid"
   },
   "outputs": [],
   "source": [
    "off_list = glob(os.path.join(SOURCE_DIR, '**/*.off'), recursive=True)"
   ]
  },
  {
   "cell_type": "code",
   "execution_count": 4,
   "metadata": {
    "id": "Nn-m9HWC5oTt"
   },
   "outputs": [],
   "source": [
    "def get_split(path):\n",
    "    return path.split('/')[-2]\n",
    "\n",
    "def get_name(path):\n",
    "    return os.path.splitext(os.path.basename(path))[0]"
   ]
  },
  {
   "cell_type": "code",
   "execution_count": 5,
   "metadata": {
    "id": "wnXr1w03-Ndp"
   },
   "outputs": [],
   "source": [
    "def off_to_voxel(path, matrix_size=64):\n",
    "    mesh = trimesh.load(path)\n",
    "    points = mesh.vertices\n",
    "    size = points.max(axis=0) - points.min(axis=0)\n",
    "    pitch = size.max() / (matrix_size - 3)\n",
    "    voxel = mesh.voxelized(pitch, max_iter=50)\n",
    "    matrix = voxel.matrix.astype(np.uint8)\n",
    "    orig_shape = matrix.shape\n",
    "    target_shape = (matrix_size, matrix_size, matrix_size)\n",
    "    anchor = (np.array(target_shape, dtype=np.int32)\n",
    "           - np.array(orig_shape, dtype=np.int32)) // 2\n",
    "    buffer = np.zeros(target_shape, dtype=np.uint8)\n",
    "    buffer[anchor[0]:anchor[0] + orig_shape[0],\n",
    "         anchor[1]:anchor[1] + orig_shape[1], \n",
    "         anchor[2]:anchor[2] + orig_shape[2]] = matrix\n",
    "    return buffer"
   ]
  },
  {
   "cell_type": "code",
   "execution_count": 6,
   "metadata": {
    "id": "E0RAQZz1Lybu"
   },
   "outputs": [
    {
     "name": "stderr",
     "output_type": "stream",
     "text": [
      "100%|██████████| 4899/4899 [38:08<00:00,  2.14it/s]  \n"
     ]
    }
   ],
   "source": [
    "for path in tqdm(off_list):\n",
    "    split = get_split(path)\n",
    "    name = get_name(path)\n",
    "    output_dir = os.path.join(OUTPUT_DIR, str(CUBE_SIZE), split)\n",
    "    os.makedirs(output_dir, exist_ok=True)\n",
    "    matrix = off_to_voxel(path, matrix_size=CUBE_SIZE)\n",
    "    output_path = os.path.join(output_dir, name + '.npy')\n",
    "    np.save(output_path, matrix)"
   ]
  },
  {
   "cell_type": "code",
   "execution_count": null,
   "metadata": {},
   "outputs": [],
   "source": []
  }
 ],
 "metadata": {
  "colab": {
   "collapsed_sections": [],
   "machine_shape": "hm",
   "name": "Preprocess_ModelNet.ipynb",
   "provenance": []
  },
  "kernelspec": {
   "display_name": "Python 3",
   "language": "python",
   "name": "python3"
  },
  "language_info": {
   "codemirror_mode": {
    "name": "ipython",
    "version": 3
   },
   "file_extension": ".py",
   "mimetype": "text/x-python",
   "name": "python",
   "nbconvert_exporter": "python",
   "pygments_lexer": "ipython3",
   "version": "3.6.9"
  }
 },
 "nbformat": 4,
 "nbformat_minor": 4
}
