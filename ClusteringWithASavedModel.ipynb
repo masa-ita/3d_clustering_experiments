{
 "cells": [
  {
   "cell_type": "markdown",
   "id": "96b73d3d",
   "metadata": {},
   "source": [
    "# Clustering with a saved model"
   ]
  },
  {
   "cell_type": "markdown",
   "id": "b463c353",
   "metadata": {},
   "source": [
    "## for Google Colab"
   ]
  },
  {
   "cell_type": "code",
   "execution_count": null,
   "id": "16cf9bbe",
   "metadata": {
    "colab": {
     "base_uri": "https://localhost:8080/"
    },
    "id": "9a117f4c",
    "outputId": "db85c1ea-99f3-4271-baec-b05049c45edd"
   },
   "outputs": [],
   "source": [
    "from google.colab import drive\n",
    "drive.mount('/content/drive')"
   ]
  },
  {
   "cell_type": "code",
   "execution_count": null,
   "id": "35316dd5",
   "metadata": {
    "id": "c9c2e582"
   },
   "outputs": [],
   "source": [
    "!unzip -q /content/drive/MyDrive/data/mn10_64.zip"
   ]
  },
  {
   "cell_type": "code",
   "execution_count": null,
   "id": "994521ab",
   "metadata": {},
   "outputs": [],
   "source": [
    "!pip install tensorflow-determinism kaleido"
   ]
  },
  {
   "cell_type": "markdown",
   "id": "4883e962",
   "metadata": {},
   "source": [
    "## Import modules and set parameters"
   ]
  },
  {
   "cell_type": "code",
   "execution_count": null,
   "id": "543f2994",
   "metadata": {
    "id": "b2afbb09"
   },
   "outputs": [],
   "source": [
    "import os\n",
    "import datetime\n",
    "import random\n",
    "from glob import glob\n",
    "import re\n",
    "import numpy as np\n",
    "import pandas as pd\n",
    "import plotly.express as px\n",
    "import matplotlib.pyplot as plt\n",
    "%matplotlib inline\n",
    "import seaborn as sns\n",
    "\n",
    "import tensorflow as tf\n",
    "from tensorflow import keras\n",
    "from tensorflow.keras import layers\n",
    "from sklearn.cluster import KMeans\n",
    "from sklearn.preprocessing import StandardScaler\n",
    "from sklearn.decomposition import PCA\n",
    "from sklearn.manifold import TSNE\n"
   ]
  },
  {
   "cell_type": "code",
   "execution_count": null,
   "id": "b808bd05",
   "metadata": {},
   "outputs": [],
   "source": [
    "def set_seed(seed=200):\n",
    "    tf.random.set_seed(seed)\n",
    "\n",
    "    # optional\n",
    "    # for numpy.random\n",
    "    np.random.seed(seed)\n",
    "    # for built-in random\n",
    "    random.seed(seed)\n",
    "    # for hash seed\n",
    "    os.environ[\"PYTHONHASHSEED\"] = str(seed)\n",
    "    os.environ['TF_DETERMINISTIC_OPS'] = '1'\n",
    "    \n",
    "set_seed(123)"
   ]
  },
  {
   "cell_type": "code",
   "execution_count": null,
   "id": "a6abc9df",
   "metadata": {
    "id": "7eef2634"
   },
   "outputs": [],
   "source": [
    "MODEL_PATH = 'autoencoder_64/saved_models/encoder'\n",
    "OUTPUT_DIR = 'autoencoder_64/outputs'\n",
    "NUM_CLASSES = 10\n",
    "NUM_CLUSTERS = 10\n",
    "NUM_PCA_COMPONENTS = 10\n",
    "BUFFER_SIZE = 1000\n",
    "BATCH_SIZE = 8\n",
    "EPOCHS = 100\n",
    "CLUSTERING_INTERVAL = 5\n",
    "DATA_DIR = '/content/mn10/64'\n",
    "IMAGE_SIZE = 64\n",
    "NUM_CHANNELS = 1"
   ]
  },
  {
   "cell_type": "code",
   "execution_count": null,
   "id": "e8c0aa5d",
   "metadata": {},
   "outputs": [],
   "source": [
    "os.makedirs(OUTPUT_DIR, exist_ok=True)"
   ]
  },
  {
   "cell_type": "markdown",
   "id": "f0624e01",
   "metadata": {
    "id": "81e74dd6"
   },
   "source": [
    "## Prepare Data"
   ]
  },
  {
   "cell_type": "code",
   "execution_count": null,
   "id": "2090d97d",
   "metadata": {
    "id": "c2e4f85f"
   },
   "outputs": [],
   "source": [
    "categories = ['bathtub', 'bed', 'chair', 'desk', 'dresser',\n",
    "              'monitor', 'night_stand', 'sofa', 'table', 'toilet']"
   ]
  },
  {
   "cell_type": "code",
   "execution_count": null,
   "id": "56f428ee",
   "metadata": {
    "id": "e9f92c4b"
   },
   "outputs": [],
   "source": [
    "data_pattern = DATA_DIR +'/train/*.npy'\n",
    "\n",
    "data_list_ds = tf.data.Dataset.list_files(data_pattern, shuffle=False)"
   ]
  },
  {
   "cell_type": "code",
   "execution_count": null,
   "id": "0b239df4",
   "metadata": {
    "id": "22d76cda"
   },
   "outputs": [],
   "source": [
    "name_re = re.compile(r'.+/(.+?_[0-9]+)\\.npy')\n",
    "data_names = [name_re.match(item.numpy().decode())[1] for item in data_list_ds]\n",
    "data_labels = [re.match(r'(.+?)_[0-9]+',name)[1] for name in data_names]\n",
    "data_ids = [categories.index(cat) for cat in data_labels]"
   ]
  },
  {
   "cell_type": "code",
   "execution_count": null,
   "id": "0a1b0e7c",
   "metadata": {
    "id": "7898f33c"
   },
   "outputs": [],
   "source": [
    "def read_npy_file(path):\n",
    "    data = np.load(path.numpy())\n",
    "    data = np.expand_dims(data, axis=-1)\n",
    "    return tf.convert_to_tensor(data, dtype=tf.float32)"
   ]
  },
  {
   "cell_type": "code",
   "execution_count": null,
   "id": "6bc3ff0d",
   "metadata": {
    "id": "2046b72c"
   },
   "outputs": [],
   "source": [
    "data_3d_ds = data_list_ds.map(\n",
    "        lambda item: tf.py_function(read_npy_file, [item], tf.float32)).cache(filename='./cache.tf-data').batch(BATCH_SIZE)"
   ]
  },
  {
   "cell_type": "markdown",
   "id": "7bb00a17",
   "metadata": {},
   "source": [
    "## Load a saved model"
   ]
  },
  {
   "cell_type": "code",
   "execution_count": null,
   "id": "3253828d",
   "metadata": {},
   "outputs": [],
   "source": [
    "feature_extractor = tf.keras.models.load_model(MODEL_PATH)"
   ]
  },
  {
   "cell_type": "markdown",
   "id": "2bcea886",
   "metadata": {
    "id": "a09e9928"
   },
   "source": [
    "## Clustering with PCA, Standardizing and k-means++"
   ]
  },
  {
   "cell_type": "code",
   "execution_count": null,
   "id": "910c1c3a",
   "metadata": {},
   "outputs": [],
   "source": [
    "pca = PCA(n_components=NUM_PCA_COMPONENTS)\n",
    "stdsc = StandardScaler()\n",
    "kmc = KMeans(n_clusters=NUM_CLUSTERS, init='k-means++', n_init=10, max_iter=300,\n",
    "                       tol=0.0001, verbose=0, random_state=123, copy_x=True)"
   ]
  },
  {
   "cell_type": "code",
   "execution_count": null,
   "id": "72e87f6a",
   "metadata": {},
   "outputs": [],
   "source": [
    "features = feature_extractor.predict(data_3d_ds)\n",
    "features_pca = pca.fit_transform(features)\n",
    "features_std = stdsc.fit_transform(features_pca)\n",
    "km_predictions = kmc.fit_predict(features_std)"
   ]
  },
  {
   "cell_type": "markdown",
   "id": "6046c5fc",
   "metadata": {
    "id": "5mEwsfs6IgkP"
   },
   "source": [
    "## Matrix with data labels and cluster ids"
   ]
  },
  {
   "cell_type": "code",
   "execution_count": null,
   "id": "81e3cbbb",
   "metadata": {
    "id": "bb56e19e"
   },
   "outputs": [],
   "source": [
    "cluster_matrix = np.zeros((NUM_CLASSES, NUM_CLUSTERS), dtype=np.int32)\n",
    "\n",
    "for i, cat_id in enumerate(data_ids):\n",
    "    cluster_matrix[cat_id, km_predictions[i]] += 1"
   ]
  },
  {
   "cell_type": "code",
   "execution_count": null,
   "id": "b819954a",
   "metadata": {
    "id": "81ad12bd"
   },
   "outputs": [],
   "source": [
    "def plot_matrix(cm, x_labels, y_labels):\n",
    "    fig, ax = plt.subplots(figsize=(7,7))\n",
    "    im = ax.imshow(cm, interpolation='nearest', cmap=plt.cm.Blues)\n",
    "    ax.figure.colorbar(im, ax=ax)\n",
    "    ax.set(\n",
    "        xticks=np.arange(cm.shape[1]),\n",
    "        yticks=np.arange(cm.shape[0]),\n",
    "        xticklabels=x_labels,\n",
    "        yticklabels=y_labels,\n",
    "        title='Cluster Matrix',\n",
    "        ylabel='Class label',\n",
    "        xlabel='Cluster id',\n",
    "        xlim=(-0.5,cm.shape[1]-0.5),\n",
    "        ylim=(cm.shape[0]-0.5,-0.5)\n",
    "    )\n",
    "    plt.setp(\n",
    "        ax.get_xticklabels(),\n",
    "        rotation=45,\n",
    "        ha=\"right\",\n",
    "        rotation_mode=\"anchor\"\n",
    "    )\n",
    "    thresh = cm.max() / 2.\n",
    "    for i in range(cm.shape[0]):\n",
    "        for j in range(cm.shape[1]):\n",
    "            ax.text(j, i, format(cm[i, j], 'd'),\n",
    "                    ha=\"center\", va=\"center\",\n",
    "                    color=\"white\" if cm[i, j] > thresh else \"black\")\n",
    "    fig.tight_layout()\n",
    "    plt.show()\n",
    "    return fig"
   ]
  },
  {
   "cell_type": "code",
   "execution_count": null,
   "id": "4fffb78f",
   "metadata": {
    "colab": {
     "base_uri": "https://localhost:8080/",
     "height": 513
    },
    "id": "7488d6fd",
    "outputId": "be298e00-65e3-490d-b6f7-ce9bd5db2ec1"
   },
   "outputs": [],
   "source": [
    "fig = plot_matrix(cluster_matrix, range(NUM_CLUSTERS), categories)"
   ]
  },
  {
   "cell_type": "code",
   "execution_count": null,
   "id": "5ee06420",
   "metadata": {},
   "outputs": [],
   "source": [
    "fig.savefig(os.path.join(OUTPUT_DIR, 'cluster_class_matrix.png'))"
   ]
  },
  {
   "cell_type": "markdown",
   "id": "50aba56f",
   "metadata": {
    "id": "a6ff327f"
   },
   "source": [
    "## Comparing SSE with number of cluster to find a \"elbow\"."
   ]
  },
  {
   "cell_type": "code",
   "execution_count": null,
   "id": "caec8606",
   "metadata": {
    "id": "ae433407"
   },
   "outputs": [],
   "source": [
    "inertias = []\n",
    "for k in range(2,21):\n",
    "    kmc = KMeans(n_clusters=k, init='k-means++', n_init=10, max_iter=300,\n",
    "                           tol=0.0001, verbose=0, random_state=None, copy_x=True)\n",
    "\n",
    "    _ = kmc.fit_predict(features_std)\n",
    "    inertias.append(kmc.inertia_)"
   ]
  },
  {
   "cell_type": "code",
   "execution_count": null,
   "id": "d25763ec",
   "metadata": {
    "colab": {
     "base_uri": "https://localhost:8080/",
     "height": 279
    },
    "id": "4b7a28cd",
    "outputId": "cd74f7a3-ce4e-41bd-cc9d-b537ed627435"
   },
   "outputs": [],
   "source": [
    "fig, ax = plt.subplots(figsize=(8,5))\n",
    "ax.plot(range(2,21), inertias, '-')\n",
    "ax.set_xticks(range(2,21))\n",
    "ax.set_xlabel('Num of clusters')\n",
    "ax.set_ylabel('SSE/Distortion')\n",
    "fig.show()"
   ]
  },
  {
   "cell_type": "code",
   "execution_count": null,
   "id": "cf177ffc",
   "metadata": {},
   "outputs": [],
   "source": [
    "fig.savefig(os.path.join(OUTPUT_DIR, 'sse_elbow_chart.png'))"
   ]
  },
  {
   "cell_type": "markdown",
   "id": "3731664c",
   "metadata": {},
   "source": [
    "## Plot standardized principal components"
   ]
  },
  {
   "cell_type": "code",
   "execution_count": null,
   "id": "87e4f2b0",
   "metadata": {},
   "outputs": [],
   "source": [
    "def plot_and_save(data, color, file_path, size=(10,10)):\n",
    "    fig, ax = plt.subplots(figsize=size)\n",
    "    sns.set_theme()\n",
    "    sns.scatterplot(x=data[:,0], y=data[:,1], hue=color, style=color, palette='bright')\n",
    "    plt.savefig(file_path)\n",
    "    plt.show()"
   ]
  },
  {
   "cell_type": "code",
   "execution_count": null,
   "id": "784abb37",
   "metadata": {},
   "outputs": [],
   "source": [
    "plot_and_save(features_std, data_labels,\n",
    "              os.path.join(OUTPUT_DIR, 'feature_std_2d_labels.png'))"
   ]
  },
  {
   "cell_type": "code",
   "execution_count": null,
   "id": "a0b090b0",
   "metadata": {},
   "outputs": [],
   "source": [
    "plot_and_save(features_std, km_predictions,\n",
    "              os.path.join(OUTPUT_DIR, 'features_std_2d_clusters.png'))"
   ]
  },
  {
   "cell_type": "code",
   "execution_count": null,
   "id": "2a8173cb",
   "metadata": {
    "colab": {
     "base_uri": "https://localhost:8080/",
     "height": 1000
    },
    "id": "DRmWXw--OXxO",
    "outputId": "2f3d7d87-18b4-4836-9005-e7595161bbf5"
   },
   "outputs": [],
   "source": [
    "def px_scatter(data, names, color):\n",
    "    symbol_seq = ['circle', 'square', 'diamond', 'cross', 'x',\n",
    "              'triangle-up', 'triangle-down', 'pentagon', 'star', 'circle-cross']\n",
    "    fig = px.scatter(\n",
    "        data, x=0, y=1,\n",
    "        color=color,\n",
    "        symbol=color,\n",
    "        symbol_sequence=symbol_seq,\n",
    "        hover_name=names,\n",
    "        width=1000, height=1000,\n",
    "    )\n",
    "    fig.show()"
   ]
  },
  {
   "cell_type": "code",
   "execution_count": null,
   "id": "43c9a0ec",
   "metadata": {},
   "outputs": [],
   "source": [
    "px_scatter(features_std, data_names, data_labels)"
   ]
  },
  {
   "cell_type": "code",
   "execution_count": null,
   "id": "2e0c987a",
   "metadata": {},
   "outputs": [],
   "source": [
    "px_scatter(features_std, data_names, km_predictions.astype(np.str))"
   ]
  },
  {
   "cell_type": "markdown",
   "id": "8eedb52e",
   "metadata": {},
   "source": [
    "### 3D plot with standardized principal components"
   ]
  },
  {
   "cell_type": "code",
   "execution_count": null,
   "id": "b7d4a3b2",
   "metadata": {
    "colab": {
     "base_uri": "https://localhost:8080/",
     "height": 1000
    },
    "id": "D6MjUwHZOnXI",
    "outputId": "a1e50b6b-4211-48ca-cf84-c2809458bad7"
   },
   "outputs": [],
   "source": [
    "def px_scatter_3d(data, names, color):\n",
    "    fig = px.scatter_3d(\n",
    "        data, x=0, y=1, z=2,\n",
    "        color=color,\n",
    "        hover_name=names,\n",
    "        width=1000, height=1000,\n",
    "    )\n",
    "    fig.show()"
   ]
  },
  {
   "cell_type": "code",
   "execution_count": null,
   "id": "4ca05ed0",
   "metadata": {},
   "outputs": [],
   "source": [
    "px_scatter_3d(features_std, data_names, data_labels)"
   ]
  },
  {
   "cell_type": "code",
   "execution_count": null,
   "id": "6ea5ee4d",
   "metadata": {},
   "outputs": [],
   "source": [
    "px_scatter_3d(features_std, data_names, km_predictions.astype(np.str))"
   ]
  },
  {
   "cell_type": "markdown",
   "id": "a99f7e44",
   "metadata": {
    "id": "sBx-n44hIuOO"
   },
   "source": [
    "## Visualize clusters with t-SNE"
   ]
  },
  {
   "cell_type": "markdown",
   "id": "1aa314a4",
   "metadata": {
    "id": "SzS_rfWVI1Xg"
   },
   "source": [
    "### Raw features with t-SNE"
   ]
  },
  {
   "cell_type": "code",
   "execution_count": null,
   "id": "58cdd241",
   "metadata": {
    "id": "56c5ba87"
   },
   "outputs": [],
   "source": [
    "tsne = TSNE(n_components=2, random_state=0)\n",
    "proj_features = tsne.fit_transform(features)"
   ]
  },
  {
   "cell_type": "code",
   "execution_count": null,
   "id": "4efccedc",
   "metadata": {
    "colab": {
     "base_uri": "https://localhost:8080/",
     "height": 1000
    },
    "id": "ac19a7f2",
    "outputId": "49ea8f34-69b9-4b04-afa1-3aa4f8a72403"
   },
   "outputs": [],
   "source": [
    "plot_and_save(proj_features, data_labels,\n",
    "              os.path.join(OUTPUT_DIR, 'features_tsne_2d_labels.png'))"
   ]
  },
  {
   "cell_type": "code",
   "execution_count": null,
   "id": "57c1fed2",
   "metadata": {},
   "outputs": [],
   "source": [
    "plot_and_save(proj_features, km_predictions,\n",
    "              os.path.join(OUTPUT_DIR, 'features_tsne_2d_cluster.png'))"
   ]
  },
  {
   "cell_type": "code",
   "execution_count": null,
   "id": "0b1146b0",
   "metadata": {},
   "outputs": [],
   "source": [
    "px_scatter(proj_features, data_names, data_labels)"
   ]
  },
  {
   "cell_type": "code",
   "execution_count": null,
   "id": "47a99201",
   "metadata": {},
   "outputs": [],
   "source": [
    "px_scatter(proj_features, data_names, km_predictions.astype(np.str))"
   ]
  },
  {
   "cell_type": "markdown",
   "id": "9b5127e8",
   "metadata": {
    "id": "v0Ycn-iTN_rf"
   },
   "source": [
    "### Pricipal components with t-SNE"
   ]
  },
  {
   "cell_type": "code",
   "execution_count": null,
   "id": "0a23887f",
   "metadata": {
    "id": "Eh_642QyN_rs"
   },
   "outputs": [],
   "source": [
    "tsne = TSNE(n_components=2, random_state=0)\n",
    "proj_features_pca = tsne.fit_transform(features_pca)"
   ]
  },
  {
   "cell_type": "code",
   "execution_count": null,
   "id": "e3f6ae95",
   "metadata": {
    "colab": {
     "base_uri": "https://localhost:8080/",
     "height": 1000
    },
    "id": "UkxszXzrN_rt",
    "outputId": "daa8756b-aa2f-434a-de7d-a60c48dfea39"
   },
   "outputs": [],
   "source": [
    "plot_and_save(proj_features_pca, data_labels,\n",
    "              os.path.join(OUTPUT_DIR, 'features_pca_tsne_2d_labels.png'))"
   ]
  },
  {
   "cell_type": "code",
   "execution_count": null,
   "id": "ee230be6",
   "metadata": {
    "colab": {
     "base_uri": "https://localhost:8080/",
     "height": 1000
    },
    "id": "UkxszXzrN_rt",
    "outputId": "daa8756b-aa2f-434a-de7d-a60c48dfea39"
   },
   "outputs": [],
   "source": [
    "plot_and_save(proj_features_pca, km_predictions,\n",
    "              os.path.join(OUTPUT_DIR, 'features_pca_tsne_2d_cluster.png'))"
   ]
  },
  {
   "cell_type": "code",
   "execution_count": null,
   "id": "2bc0940e",
   "metadata": {},
   "outputs": [],
   "source": [
    "px_scatter(proj_features_pca, data_names, data_labels)"
   ]
  },
  {
   "cell_type": "code",
   "execution_count": null,
   "id": "6d9015a4",
   "metadata": {},
   "outputs": [],
   "source": [
    "px_scatter(proj_features_pca, data_names, km_predictions.astype(np.str))"
   ]
  },
  {
   "cell_type": "markdown",
   "id": "25675347",
   "metadata": {
    "id": "azDdrjw-OXxM"
   },
   "source": [
    "### Standardized principal components"
   ]
  },
  {
   "cell_type": "code",
   "execution_count": null,
   "id": "02f50000",
   "metadata": {
    "id": "-4GymVcsOXxN"
   },
   "outputs": [],
   "source": [
    "tsne = TSNE(n_components=2, random_state=0)\n",
    "proj_features_std = tsne.fit_transform(features_std)"
   ]
  },
  {
   "cell_type": "code",
   "execution_count": null,
   "id": "0d1cda10",
   "metadata": {
    "colab": {
     "base_uri": "https://localhost:8080/",
     "height": 1000
    },
    "id": "UkxszXzrN_rt",
    "outputId": "daa8756b-aa2f-434a-de7d-a60c48dfea39"
   },
   "outputs": [],
   "source": [
    "plot_and_save(proj_features_std, data_labels,\n",
    "              os.path.join(OUTPUT_DIR, 'features_std_tsne_2d_labels.png'))"
   ]
  },
  {
   "cell_type": "code",
   "execution_count": null,
   "id": "1ed5f997",
   "metadata": {
    "colab": {
     "base_uri": "https://localhost:8080/",
     "height": 1000
    },
    "id": "UkxszXzrN_rt",
    "outputId": "daa8756b-aa2f-434a-de7d-a60c48dfea39"
   },
   "outputs": [],
   "source": [
    "plot_and_save(proj_features_std, km_predictions,\n",
    "              os.path.join(OUTPUT_DIR, 'features_std_tsne_2d_cluster.png'))"
   ]
  },
  {
   "cell_type": "code",
   "execution_count": null,
   "id": "bf5119dc",
   "metadata": {},
   "outputs": [],
   "source": [
    "px_scatter(proj_features_std, data_names, data_labels)"
   ]
  },
  {
   "cell_type": "code",
   "execution_count": null,
   "id": "d21a63d2",
   "metadata": {},
   "outputs": [],
   "source": [
    "px_scatter(proj_features_std, data_names, km_predictions.astype(np.str))"
   ]
  },
  {
   "cell_type": "markdown",
   "id": "ef7f858c",
   "metadata": {
    "id": "XG_-W6naOnW9"
   },
   "source": [
    "### 3D Plot with standardized principal components"
   ]
  },
  {
   "cell_type": "code",
   "execution_count": null,
   "id": "c2c8e6e0",
   "metadata": {
    "id": "jvCL6KA0OnXH"
   },
   "outputs": [],
   "source": [
    "tsne = TSNE(n_components=3, random_state=0)\n",
    "proj_features_std_3d = tsne.fit_transform(features_std)"
   ]
  },
  {
   "cell_type": "code",
   "execution_count": null,
   "id": "228bdf17",
   "metadata": {
    "colab": {
     "base_uri": "https://localhost:8080/",
     "height": 1000
    },
    "id": "D6MjUwHZOnXI",
    "outputId": "a1e50b6b-4211-48ca-cf84-c2809458bad7"
   },
   "outputs": [],
   "source": [
    "px_scatter_3d(proj_features_std_3d, data_names, data_labels)"
   ]
  },
  {
   "cell_type": "code",
   "execution_count": null,
   "id": "f53c3fc4",
   "metadata": {},
   "outputs": [],
   "source": [
    "px_scatter_3d(proj_features_std_3d, data_names, km_predictions.astype(np.str))"
   ]
  },
  {
   "cell_type": "code",
   "execution_count": null,
   "id": "90f22c90",
   "metadata": {},
   "outputs": [],
   "source": []
  }
 ],
 "metadata": {
  "accelerator": "GPU",
  "colab": {
   "collapsed_sections": [],
   "machine_shape": "hm",
   "name": "CNNCluster3D_pca_64.ipynb",
   "provenance": []
  },
  "kernelspec": {
   "display_name": "Python 3",
   "language": "python",
   "name": "python3"
  },
  "language_info": {
   "codemirror_mode": {
    "name": "ipython",
    "version": 3
   },
   "file_extension": ".py",
   "mimetype": "text/x-python",
   "name": "python",
   "nbconvert_exporter": "python",
   "pygments_lexer": "ipython3",
   "version": "3.6.9"
  }
 },
 "nbformat": 4,
 "nbformat_minor": 5
}
